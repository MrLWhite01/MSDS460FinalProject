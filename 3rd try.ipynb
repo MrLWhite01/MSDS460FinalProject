{
 "cells": [
  {
   "cell_type": "code",
   "execution_count": 2,
   "id": "379344c0",
   "metadata": {},
   "outputs": [],
   "source": [
    "%matplotlib inline\n",
    "import numpy as np\n",
    "import matplotlib.pyplot as plt\n",
    "import cvxopt as opt\n",
    "from cvxopt import blas, solvers\n",
    "import pandas as pd\n",
    "import math\n",
    "\n",
    "\n",
    "np.random.seed(123)\n",
    "\n",
    "# Turn off progress printing \n",
    "solvers.options['show_progress'] = False"
   ]
  },
  {
   "cell_type": "code",
   "execution_count": 3,
   "id": "c0b0a8bd",
   "metadata": {},
   "outputs": [],
   "source": [
    "portfolio = pd.read_csv('HistoricalPrices.csv',  dtype='float64', header=0)"
   ]
  },
  {
   "cell_type": "code",
   "execution_count": 4,
   "id": "cb24a707",
   "metadata": {},
   "outputs": [
    {
     "data": {
      "text/plain": [
       "<bound method NDFrame.head of          AXP      BA     CAT   CSCO     CVX     DIS      GS      HD     IBM  \\\n",
       "0      65.53  134.44   83.84  30.52  102.32   96.39  166.23  135.46  160.04   \n",
       "1      65.36  134.99   83.59  30.63  101.94   95.87  166.26  135.34  160.00   \n",
       "2      65.68  134.14   84.01  30.98  101.68   95.97  166.08  136.22  160.26   \n",
       "3      65.16  133.29   83.15  31.06  102.20   95.82  165.30  135.06  159.05   \n",
       "4      65.00  132.98   82.84  31.29  101.89   95.55  165.90  135.43  158.63   \n",
       "...      ...     ...     ...    ...     ...     ...     ...     ...     ...   \n",
       "1253  168.52  238.18  220.24  56.39  102.64  179.29  415.00  334.02  143.07   \n",
       "1254  166.08  234.46  218.57  56.47  101.96  181.08  410.78  331.32  143.18   \n",
       "1255  165.75  229.06  217.71  56.28  100.92  179.09  408.35  335.05  143.59   \n",
       "1256  164.65  222.22  213.44  56.01  100.73  175.83  404.97  320.75  142.42   \n",
       "1257  162.13  219.00  209.81  55.15   96.70  174.74  398.80  321.55  139.47   \n",
       "\n",
       "        SP500  \n",
       "0     2183.87  \n",
       "1     2182.64  \n",
       "2     2186.90  \n",
       "3     2175.44  \n",
       "4     2172.47  \n",
       "...       ...  \n",
       "1253  4460.83  \n",
       "1254  4468.00  \n",
       "1255  4479.71  \n",
       "1256  4448.08  \n",
       "1257  4400.27  \n",
       "\n",
       "[1258 rows x 10 columns]>"
      ]
     },
     "execution_count": 4,
     "metadata": {},
     "output_type": "execute_result"
    }
   ],
   "source": [
    "portfolio.head"
   ]
  },
  {
   "cell_type": "code",
   "execution_count": 5,
   "id": "f1773401",
   "metadata": {},
   "outputs": [
    {
     "data": {
      "text/html": [
       "<div>\n",
       "<style scoped>\n",
       "    .dataframe tbody tr th:only-of-type {\n",
       "        vertical-align: middle;\n",
       "    }\n",
       "\n",
       "    .dataframe tbody tr th {\n",
       "        vertical-align: top;\n",
       "    }\n",
       "\n",
       "    .dataframe thead th {\n",
       "        text-align: right;\n",
       "    }\n",
       "</style>\n",
       "<table border=\"1\" class=\"dataframe\">\n",
       "  <thead>\n",
       "    <tr style=\"text-align: right;\">\n",
       "      <th></th>\n",
       "      <th>AXP</th>\n",
       "      <th>BA</th>\n",
       "      <th>CAT</th>\n",
       "      <th>CSCO</th>\n",
       "      <th>CVX</th>\n",
       "      <th>DIS</th>\n",
       "      <th>GS</th>\n",
       "      <th>HD</th>\n",
       "      <th>IBM</th>\n",
       "      <th>SP500</th>\n",
       "    </tr>\n",
       "  </thead>\n",
       "  <tbody>\n",
       "    <tr>\n",
       "      <th>0</th>\n",
       "      <td>NaN</td>\n",
       "      <td>NaN</td>\n",
       "      <td>NaN</td>\n",
       "      <td>NaN</td>\n",
       "      <td>NaN</td>\n",
       "      <td>NaN</td>\n",
       "      <td>NaN</td>\n",
       "      <td>NaN</td>\n",
       "      <td>NaN</td>\n",
       "      <td>NaN</td>\n",
       "    </tr>\n",
       "    <tr>\n",
       "      <th>1</th>\n",
       "      <td>-0.002594</td>\n",
       "      <td>0.004091</td>\n",
       "      <td>-0.002982</td>\n",
       "      <td>0.003604</td>\n",
       "      <td>-0.003714</td>\n",
       "      <td>-0.005395</td>\n",
       "      <td>0.000180</td>\n",
       "      <td>-0.000886</td>\n",
       "      <td>-0.000250</td>\n",
       "      <td>-0.000563</td>\n",
       "    </tr>\n",
       "    <tr>\n",
       "      <th>2</th>\n",
       "      <td>0.004896</td>\n",
       "      <td>-0.006297</td>\n",
       "      <td>0.005025</td>\n",
       "      <td>0.011427</td>\n",
       "      <td>-0.002551</td>\n",
       "      <td>0.001043</td>\n",
       "      <td>-0.001083</td>\n",
       "      <td>0.006502</td>\n",
       "      <td>0.001625</td>\n",
       "      <td>0.001952</td>\n",
       "    </tr>\n",
       "    <tr>\n",
       "      <th>3</th>\n",
       "      <td>-0.007917</td>\n",
       "      <td>-0.006337</td>\n",
       "      <td>-0.010237</td>\n",
       "      <td>0.002582</td>\n",
       "      <td>0.005114</td>\n",
       "      <td>-0.001563</td>\n",
       "      <td>-0.004697</td>\n",
       "      <td>-0.008516</td>\n",
       "      <td>-0.007550</td>\n",
       "      <td>-0.005240</td>\n",
       "    </tr>\n",
       "    <tr>\n",
       "      <th>4</th>\n",
       "      <td>-0.002455</td>\n",
       "      <td>-0.002326</td>\n",
       "      <td>-0.003728</td>\n",
       "      <td>0.007405</td>\n",
       "      <td>-0.003033</td>\n",
       "      <td>-0.002818</td>\n",
       "      <td>0.003630</td>\n",
       "      <td>0.002740</td>\n",
       "      <td>-0.002641</td>\n",
       "      <td>-0.001365</td>\n",
       "    </tr>\n",
       "  </tbody>\n",
       "</table>\n",
       "</div>"
      ],
      "text/plain": [
       "        AXP        BA       CAT      CSCO       CVX       DIS        GS  \\\n",
       "0       NaN       NaN       NaN       NaN       NaN       NaN       NaN   \n",
       "1 -0.002594  0.004091 -0.002982  0.003604 -0.003714 -0.005395  0.000180   \n",
       "2  0.004896 -0.006297  0.005025  0.011427 -0.002551  0.001043 -0.001083   \n",
       "3 -0.007917 -0.006337 -0.010237  0.002582  0.005114 -0.001563 -0.004697   \n",
       "4 -0.002455 -0.002326 -0.003728  0.007405 -0.003033 -0.002818  0.003630   \n",
       "\n",
       "         HD       IBM     SP500  \n",
       "0       NaN       NaN       NaN  \n",
       "1 -0.000886 -0.000250 -0.000563  \n",
       "2  0.006502  0.001625  0.001952  \n",
       "3 -0.008516 -0.007550 -0.005240  \n",
       "4  0.002740 -0.002641 -0.001365  "
      ]
     },
     "execution_count": 5,
     "metadata": {},
     "output_type": "execute_result"
    }
   ],
   "source": [
    "returns_portfolio = portfolio.pct_change()\n",
    "returns_portfolio.head()"
   ]
  },
  {
   "cell_type": "code",
   "execution_count": 12,
   "id": "9f9ea186",
   "metadata": {},
   "outputs": [],
   "source": [
    "weight_portfolio = [0.1,0.1,0.1,0.1,0.1,0.1,0.1,0.1,0.1,0.1]\n",
    "#weight_portfolio2 = np.asarray(weight_portfolio)"
   ]
  },
  {
   "cell_type": "code",
   "execution_count": 7,
   "id": "708d2ebe",
   "metadata": {},
   "outputs": [
    {
     "name": "stdout",
     "output_type": "stream",
     "text": [
      "Shape of array:\n",
      " (1258, 10)\n"
     ]
    }
   ],
   "source": [
    "returns_portfolio2 = np.asarray(returns_portfolio)\n",
    "returns_portfolio2\n",
    "print(\"Shape of array:\\n\", np.shape(returns_portfolio2))"
   ]
  },
  {
   "cell_type": "code",
   "execution_count": 13,
   "id": "396d0437",
   "metadata": {},
   "outputs": [
    {
     "name": "stdout",
     "output_type": "stream",
     "text": [
      "Shape of array:\n",
      " (1258,)\n"
     ]
    }
   ],
   "source": [
    "portfolio_return = np.dot(returns_portfolio2,weight_portfolio)\n",
    "#portfolio_return2 = np.asarray(portfolio_return)\n",
    "print(\"Shape of array:\\n\", np.shape(portfolio_return))"
   ]
  },
  {
   "cell_type": "code",
   "execution_count": 16,
   "id": "f4ea552f",
   "metadata": {},
   "outputs": [
    {
     "ename": "AttributeError",
     "evalue": "'numpy.ndarray' object has no attribute 'cov'",
     "output_type": "error",
     "traceback": [
      "\u001b[1;31m---------------------------------------------------------------------------\u001b[0m",
      "\u001b[1;31mAttributeError\u001b[0m                            Traceback (most recent call last)",
      "\u001b[1;32m<ipython-input-16-a66b5df37b59>\u001b[0m in \u001b[0;36m<module>\u001b[1;34m\u001b[0m\n\u001b[1;32m----> 1\u001b[1;33m \u001b[0mvar\u001b[0m \u001b[1;33m=\u001b[0m \u001b[0mportfolio_return\u001b[0m\u001b[1;33m.\u001b[0m\u001b[0mcov\u001b[0m\u001b[1;33m(\u001b[0m\u001b[1;33m)\u001b[0m\u001b[1;33m\u001b[0m\u001b[1;33m\u001b[0m\u001b[0m\n\u001b[0m",
      "\u001b[1;31mAttributeError\u001b[0m: 'numpy.ndarray' object has no attribute 'cov'"
     ]
    }
   ],
   "source": [
    "var = portfolio_return.cov()"
   ]
  },
  {
   "cell_type": "code",
   "execution_count": 9,
   "id": "2b7befe8",
   "metadata": {},
   "outputs": [
    {
     "ename": "AttributeError",
     "evalue": "'numpy.ndarray' object has no attribute 'cov'",
     "output_type": "error",
     "traceback": [
      "\u001b[1;31m---------------------------------------------------------------------------\u001b[0m",
      "\u001b[1;31mAttributeError\u001b[0m                            Traceback (most recent call last)",
      "\u001b[1;32m<ipython-input-9-e80d77bcbfd9>\u001b[0m in \u001b[0;36m<module>\u001b[1;34m\u001b[0m\n\u001b[1;32m----> 1\u001b[1;33m \u001b[0mvariance_matrix\u001b[0m \u001b[1;33m=\u001b[0m \u001b[0mportfolio_return\u001b[0m\u001b[1;33m.\u001b[0m\u001b[0mcov\u001b[0m\u001b[1;33m(\u001b[0m\u001b[1;33m)\u001b[0m\u001b[1;33m*\u001b[0m\u001b[1;36m252\u001b[0m\u001b[1;33m\u001b[0m\u001b[1;33m\u001b[0m\u001b[0m\n\u001b[0m\u001b[0;32m      2\u001b[0m \u001b[0mvariance_matrix\u001b[0m\u001b[1;33m\u001b[0m\u001b[1;33m\u001b[0m\u001b[0m\n",
      "\u001b[1;31mAttributeError\u001b[0m: 'numpy.ndarray' object has no attribute 'cov'"
     ]
    }
   ],
   "source": [
    "variance_matrix = portfolio_return.cov()*252\n",
    "variance_matrix"
   ]
  },
  {
   "cell_type": "code",
   "execution_count": null,
   "id": "dce864a1",
   "metadata": {},
   "outputs": [],
   "source": []
  }
 ],
 "metadata": {
  "kernelspec": {
   "display_name": "Python 3",
   "language": "python",
   "name": "python3"
  },
  "language_info": {
   "codemirror_mode": {
    "name": "ipython",
    "version": 3
   },
   "file_extension": ".py",
   "mimetype": "text/x-python",
   "name": "python",
   "nbconvert_exporter": "python",
   "pygments_lexer": "ipython3",
   "version": "3.8.8"
  }
 },
 "nbformat": 4,
 "nbformat_minor": 5
}
